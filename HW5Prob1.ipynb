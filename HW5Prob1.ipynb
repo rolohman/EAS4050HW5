{
 "cells": [
  {
   "cell_type": "code",
   "execution_count": null,
   "id": "102a8338",
   "metadata": {},
   "outputs": [],
   "source": [
    "import numpy as np\n",
    "import matplotlib.pyplot as plt"
   ]
  },
  {
   "cell_type": "code",
   "execution_count": null,
   "id": "8a22af7e-8c07-44e1-b7d4-de74de0af52a",
   "metadata": {},
   "outputs": [],
   "source": [
    "GPS    = np.genfromtxt('rates.csv', delimiter=',', names=True, case_sensitive=True) \n",
    "faults = np.genfromtxt('faults.csv', delimiter=',', names=True, case_sensitive=True) \n",
    "coasts = np.genfromtxt('coasts.csv', delimiter=',', names=True, case_sensitive=True)\n"
   ]
  },
  {
   "cell_type": "markdown",
   "id": "6f980a95-1e46-4022-80cc-e52a0f9d3099",
   "metadata": {},
   "source": [
    "the original \"map\" locations have values like 4e6 meters - this just makes\n",
    "the plots a little cleaner.  Doesn't affect any of the math at all."
   ]
  },
  {
   "cell_type": "code",
   "execution_count": null,
   "id": "a17d4b2d-f31a-45c2-ba55-ad7801e39081",
   "metadata": {},
   "outputs": [],
   "source": [
    "coasts['x']=coasts['x']-GPS['x'].mean()\n",
    "coasts['y']=coasts['y']-GPS['y'].mean()\n",
    "faults['x']=faults['x']-GPS['x'].mean()\n",
    "faults['y']=faults['y']-GPS['y'].mean()\n",
    "GPS['x']=GPS['x']-GPS['x'].mean()\n",
    "GPS['y']=GPS['y']-GPS['y'].mean()\n",
    "\n",
    "GPS['UE']=GPS['UE']/1000 #%convert to meters/yr, since our units of distance are in meters\n",
    "GPS['UN']=GPS['UN']/1000\n",
    "\n",
    "print(GPS['UN'].mean())"
   ]
  },
  {
   "cell_type": "markdown",
   "id": "b8b27600-e72c-4585-b6fc-f1e60b5bb85c",
   "metadata": {},
   "source": [
    "All the stuff above is old, the stuff below is new. Walk through the code step by step, there are some variables and equations that you need to change."
   ]
  },
  {
   "cell_type": "markdown",
   "id": "320913c7-fe2e-4a23-8410-5c732b83bd6f",
   "metadata": {},
   "source": [
    "First, plot velocity vectors on normal plot (E,W axes). No changes necessary here, but read notes.\n",
    "\n",
    "Note that when we remove the mean of the GPS vectores, it doesn't necessarily mean that all of the vectors on one side of the fault goes one way and the ones on the other side go the other way.  If we have more points on one side, then you'll get a mean value weighted towards those values.  But it makes it a little easier to see the complexity."
   ]
  },
  {
   "cell_type": "code",
   "execution_count": null,
   "id": "0fec91fb-83ed-489a-91e0-318ee6e69950",
   "metadata": {},
   "outputs": [],
   "source": [
    "fig=plt.figure(figsize=(10,10))\n",
    "ax = fig.add_subplot(1, 1, 1)\n",
    "ax.plot(coasts['x']/1e3,coasts['y']/1e3,'b')\n",
    "ax.plot(faults['x']/1e3,faults['y']/1e3,'r',linewidth=0.5)\n",
    "\n",
    "#add displacement rate vectors, as well as scale arrow \n",
    "ax.quiver(GPS['x']/1e3,GPS['y']/1e3, GPS['UE'],GPS['UN'],color='k')\n",
    "\n",
    "plt.axis('equal')\n",
    "plt.xlim([-3.5e2, 3e2])\n",
    "plt.ylim([-2.5e2, 2e2])\n",
    "plt.xlabel('Easting (km)')\n",
    "plt.ylabel('Northing (km)')\n",
    "plt.title('Data')\n",
    "plt.show()"
   ]
  },
  {
   "cell_type": "markdown",
   "id": "b71ff1fb-662d-4e2c-974a-74c32d78fa6b",
   "metadata": {},
   "source": [
    "### Rotate region\n",
    "We want to plot the rates along a profile perpendicular to the fault.  One way to do this is to rotate the whole region, and then just pull out a given range of \"Y\" values in the new coordinate system.  Try various values of \"theta\", for the angle of rotation, until the San Andreas is essentially up-down on your plot (i.e., vectors on one side point up, on the other side they point down)."
   ]
  },
  {
   "cell_type": "code",
   "execution_count": null,
   "id": "77a31d0d-8179-4e37-82c1-19c4aa416e69",
   "metadata": {},
   "outputs": [],
   "source": [
    "###CHANGE THIS\n",
    "theta    = 10  #in degrees\n",
    "thetarad = np.radians(theta)\n",
    "\n",
    "#This is a 2x2 matrix to rotate the coordinates of coastlines, faults, etc.\n",
    "rotM = np.array([[np.cos(thetarad),np.sin(thetarad)],[-np.sin(thetarad),np.cos(thetarad)]])\n",
    "\n",
    "#Now rotate all the things we've been plotting\n",
    "fault_coords = np.column_stack((faults['x'],faults['y'])).transpose()\n",
    "rot_fault    = rotM.dot(fault_coords)\n",
    "rotfx        = rot_fault[0,:]\n",
    "rotfy        = rot_fault[1,:]\n",
    "\n",
    "coast_coords = np.column_stack((coasts['x'],coasts['y'])).transpose()\n",
    "rot_coast    = rotM.dot(coast_coords)\n",
    "rotcx        = rot_coast[0,:]\n",
    "rotcy        = rot_coast[1,:]\n",
    "\n",
    "GPS_coords   = np.column_stack((GPS['x'],GPS['y'])).transpose()\n",
    "rot_GPS      = rotM.dot(GPS_coords)\n",
    "rotGPS_x     = rot_GPS[0,:]\n",
    "rotGPS_y     = rot_GPS[1,:]\n",
    "\n",
    "GPS_displ    = np.column_stack((GPS['UE'],GPS['UN'])).transpose()\n",
    "rot_GPSd     = rotM.dot(GPS_displ)\n",
    "rotGPS_UE    = rot_GPSd[0,:]\n",
    "rotGPS_UN    = rot_GPSd[1,:]\n"
   ]
  },
  {
   "cell_type": "code",
   "execution_count": null,
   "id": "f5b60a86-220f-4495-98cf-adbf3fa5cb58",
   "metadata": {},
   "outputs": [],
   "source": [
    "#Plot the variables in the rotated coordinate system\n",
    "fig=plt.figure(figsize=(10,10))\n",
    "ax = fig.add_subplot(1, 1, 1)\n",
    "\n",
    "#add displacement rate vectors\n",
    "ax.quiver(rotGPS_x,rotGPS_y, rotGPS_UE-rotGPS_UE.mean(), rotGPS_UN-rotGPS_UN.mean(),color='k',scale=2e-1)\n",
    "\n",
    "plt.axis('image')\n",
    "ax.plot(rotcx,rotcy,'b')\n",
    "ax.plot(rotfx,rotfy,'r',linewidth=0.5)\n",
    "\n",
    "plt.xlim([rotGPS_x.min(),rotGPS_x.max()])\n",
    "plt.ylim([rotGPS_y.min(),rotGPS_y.max()])\n",
    "plt.xlabel('rotated x coords (m)')\n",
    "plt.ylabel('rotated y coords (m)')\n",
    "plt.title('Data, rotated')\n",
    "plt.show()\n"
   ]
  },
  {
   "cell_type": "markdown",
   "id": "4f2920b0-47c5-444a-8869-fa2c0dfbd98f",
   "metadata": {},
   "source": [
    "### Select range of Y-values and plot profile\n",
    "The San Andreas does not run perfectly straigh - it has a stepover north of Los Angeles.  In your rotated plot, you should be able to see that there is a horizontal offset between the upper and lower sections.  If you plot the whole thing vs your new, rotated X coordinate, you will get the following plot.\n"
   ]
  },
  {
   "cell_type": "code",
   "execution_count": null,
   "id": "18863ccf-3680-4b52-9b4c-5236d53fdcea",
   "metadata": {},
   "outputs": [],
   "source": [
    "fig=plt.figure()\n",
    "ax = fig.add_subplot(1, 1, 1)\n",
    "ax.plot(rotGPS_x,rotGPS_UN,'r.')\n",
    "plt.xlabel('Distance across fault, rotated coords, meters')\n",
    "plt.ylabel('Fault-parallel displacement rate (m/yr)')\n",
    "plt.title('Data along profile (rotated x coords)')\n",
    "plt.grid(True)\n",
    "plt.show()\n"
   ]
  },
  {
   "cell_type": "markdown",
   "id": "91b678b3-70c2-4b4b-b846-e3163c3c18c3",
   "metadata": {},
   "source": [
    "The deformation zone looks really broad and smeared out because you are combining the northern and southern sections together.  Instead, let's pick JUST the southern section.  To do that, we will use ONLY values that fall within certain bounds in the rotated Y variable. Use the Y axis as shown in your previous, rotated map view plot."
   ]
  },
  {
   "cell_type": "code",
   "execution_count": null,
   "id": "48a88e84-ad8a-4595-9718-4767c6ba893c",
   "metadata": {},
   "outputs": [],
   "source": [
    "###CHANGE THESE to actual numbers, they are set to a default max/min in your rotated coords.\n",
    "min_roty = rotGPS_y.min()\n",
    "max_roty = rotGPS_y.max()\n",
    "\n",
    "goodid = np.where((rotGPS_y < max_roty) & (rotGPS_y > min_roty))\n",
    "\n",
    "fig=plt.figure()\n",
    "ax = fig.add_subplot(1, 1, 1)\n",
    "ax.plot(rotGPS_x[goodid]/1e3,rotGPS_UN[goodid],'r.')\n",
    "plt.xlabel('Distance across fault, rotated coords, meters')\n",
    "plt.ylabel('Fault-parallel displacement rate (m/yr)')\n",
    "plt.title('Data along profile (rotated x coords)')\n",
    "plt.grid(True)\n",
    "plt.show()\n"
   ]
  },
  {
   "cell_type": "markdown",
   "id": "77127de7-06da-4487-aba7-c4f21da97983",
   "metadata": {},
   "source": [
    "### Model interseismic\n",
    "Now you need to model the fault, using the equation shown from class. Tinker with the following:"
   ]
  },
  {
   "cell_type": "code",
   "execution_count": null,
   "id": "9144e235-c62b-405c-ac60-afbf662e03b8",
   "metadata": {},
   "outputs": [],
   "source": [
    "# Location of fault (this should be about where the center of your\n",
    "# \"arctan\" signal is, in meters (note that the last figure shows km)\n",
    "x0 = 5e3\n",
    "\n",
    "# Locking depth, in meters\n",
    "D = 35e3\n",
    "\n",
    "# Plate rate (in meters/ year, like your UE, UN vectors.  Should be about\n",
    "# the total from one side of the fault to the other. The negative sign\n",
    "# makes the value right-lateral (left side positive)\n",
    "V = -0.08;"
   ]
  },
  {
   "cell_type": "markdown",
   "id": "4adb6080-b855-4376-b525-e9c8ac66488e",
   "metadata": {},
   "source": [
    "### Predicted profile of displacement rate, at just our selected points.  \n",
    "### This equation is WRONG!  Fix it to what we showed in class."
   ]
  },
  {
   "cell_type": "code",
   "execution_count": null,
   "id": "5c1af144-d7e9-4582-8d51-c21267404d71",
   "metadata": {},
   "outputs": [],
   "source": [
    "model = V/np.pi*np.arccos(D/(rotGPS_x[goodid]-x0))"
   ]
  },
  {
   "cell_type": "markdown",
   "id": "e278ad5c-3ab9-42d1-bfdd-4dab766561b7",
   "metadata": {},
   "source": [
    "## Plot model and data"
   ]
  },
  {
   "cell_type": "code",
   "execution_count": null,
   "id": "21ea530e-2bf7-4800-a7dc-b2030d5bcecf",
   "metadata": {},
   "outputs": [],
   "source": [
    "#solve for the average offset of this curve (i.e., center on the data, up or down)\n",
    "residual = rotGPS_UN[goodid]-model\n",
    "meanrate = residual.mean()\n",
    "rms      = residual.std()\n",
    "\n",
    "\n",
    "fig=plt.figure()\n",
    "ax = fig.add_subplot(1, 1, 1)\n",
    "ax.plot((rotGPS_x[goodid]-x0)/1e3,rotGPS_UN[goodid]-meanrate,'.', label='Data')\n",
    "ax.plot((rotGPS_x[goodid]-x0)/1e3,model,'r.', label='Model')\n",
    "ax.legend()\n",
    "plt.xlabel('Distance across fault, rotated coords, meters')\n",
    "plt.ylabel('Fault-parallel displacement rate (m/yr)')\n",
    "plt.title('Data along profile (rotated x coords)')\n",
    "plt.grid(True)\n",
    "plt.show()\n",
    "\n",
    "\n",
    "#    title(['std dev of res. = ' num2str(rms*100) ' cm/yr'])\n",
    "\n"
   ]
  },
  {
   "cell_type": "code",
   "execution_count": null,
   "id": "f0ad06ef-fdb0-4d19-b58a-2d37c3448334",
   "metadata": {},
   "outputs": [],
   "source": [
    "dx = 30e3 #grid spacing in meters\n",
    "gridx = np.arange(GPS['x'].min(),GPS['x'].max(),dx) #this makes a vector of x values, spaced by dx\n",
    "gridy = np.arange(GPS['y'].min(),GPS['y'].max(),dx) #this makes a vector of y values, spaced by dx\n",
    "\n",
    "#how many x and y points do we have?  We use that later.\n",
    "nx=np.size(gridx); \n",
    "ny=np.size(gridy);\n",
    "\n",
    "#This makes a grid of x and y values from our two vectors\n",
    "[x,y]=np.meshgrid(gridx,gridy)\n",
    "\n",
    "#smoothing distance - this allows us to use points that are not just within\n",
    "#our single grid box, while still making the ones in the box more\n",
    "#\"important\".  Change this up!\n",
    "alpha = 10e3; #in meters\n"
   ]
  },
  {
   "cell_type": "code",
   "execution_count": null,
   "id": "986052f6-163e-4923-ad75-692a96d6f71e",
   "metadata": {},
   "outputs": [],
   "source": [
    "m     = np.zeros([6,ny,nx]); #initialize an empty model vector \n",
    "count = x*0;                 #keep a vector of how many points we end up using for each box\n"
   ]
  },
  {
   "cell_type": "code",
   "execution_count": null,
   "id": "7f5a3bc8-0cd2-44fc-84a8-c485237a8c66",
   "metadata": {},
   "outputs": [],
   "source": [
    "for i in np.arange(0,ny): #loop over all ny rows\n",
    "    for j in np.arange(0,nx): #loop over all nx columns\n",
    "        #Calculate the distance from ALL GPS points to your grid box center.\n",
    "        dists=np.sqrt(np.square(GPS['x']-x[i,j])+np.square(GPS['y']-y[i,j]))\n",
    "\n",
    "        #this is the equation for a Gaussian curve, with width alpha\n",
    "        weights = np.exp(-(np.square(dists))/(2*np.square(alpha)))       \n",
    "        \n",
    "        #only use points that are within 2*alpha from the center of our box, or the box size itself\n",
    "        ind     = np.where((dists < 2*alpha) | (dists < dx/2))\n",
    "        nd      = np.size(ind);   # number of \"good\" points\n",
    "        \n",
    "        sig      =  np.diag(np.hstack((weights[ind],weights[ind])))\n",
    "\n",
    "        #data vector of just the points we are using\n",
    "        d        = np.hstack((GPS['UE'][ind],GPS['UN'][ind]))\n",
    "        z        = np.zeros(nd)\n",
    "        o        = np.ones(nd)\n",
    "\n",
    "        #%build G matrix\n",
    "        G1    = np.column_stack((o,z,GPS['x'][ind],GPS['y'][ind],z,z))  #first set, UE \n",
    "        G2    = np.column_stack((z,o,z,z,GPS['x'][ind],GPS['y'][ind])) #2nd set, UN\n",
    "        G     = np.concatenate((G1,G2),axis=0)\n",
    "    \n",
    "        Gt   = np.transpose(G)\n",
    "        G3   = (Gt.dot(sig)).dot(G);\n",
    "        \n",
    "        # If the next value is very big or infinite, \n",
    "        #this means the matrix is not invertible, \n",
    "        #probably because you have < 6 points or \n",
    "        #points that are very close together\n",
    " \n",
    "        rcond = np.linalg.cond(G3) \n",
    "    \n",
    "        if np.isinf(rcond) or rcond >1e16:\n",
    "            m[:,i,j]=np.nan\n",
    "           \n",
    "        else:\n",
    "            Gg       = (np.linalg.inv(G3).dot(Gt)).dot(sig)\n",
    "            m[:,i,j] = Gg.dot(d)\n",
    "            count[i,j]=nd\n"
   ]
  },
  {
   "cell_type": "markdown",
   "id": "a396b0b5-49cf-46cb-aedf-498c207fb0d2",
   "metadata": {},
   "source": [
    "Now we want to pull out the extension and shear components"
   ]
  },
  {
   "cell_type": "code",
   "execution_count": null,
   "id": "b5ec03a5-9090-468d-ac07-5822bb0f0ce1",
   "metadata": {},
   "outputs": [],
   "source": [
    "dilatation = x*np.nan\n",
    "shear      = x*np.nan\n",
    "\n",
    "for i in np.arange(0,ny): #loop over all ny rows\n",
    "    for j in np.arange(0,nx): #loop over all nx columns\n",
    "        L  = [[m[2,i,j],m[3,i,j]],[m[4,i,j],m[5,i,j]]]\n",
    "        W = (L-np.transpose(L))/2\n",
    "        E = (L+np.transpose(L))/2\n",
    "          \n",
    "        dilatation[i,j] = np.trace(E)\n",
    "        shear[i,j]      = E[0,0]-E[1,1]\n"
   ]
  },
  {
   "cell_type": "code",
   "execution_count": null,
   "id": "a6298140-8a34-445f-b5dd-bcd1ba53105a",
   "metadata": {},
   "outputs": [],
   "source": [
    "fig=plt.figure(figsize=(10,10))\n",
    "ax = fig.add_subplot(1, 1, 1)    \n",
    "im=ax.pcolor(x,y,dilatation,vmin=-1e-7,vmax=1e-7)\n",
    "ax.plot(faults['x'],faults['y'],'r')\n",
    "ax.plot(GPS['x'],GPS['y'],'k.')\n",
    "plt.axis('image')\n",
    "plt.xlabel('East (m)')\n",
    "plt.ylabel('North (m)')\n",
    "plt.xlim(GPS['x'].min(), GPS['x'].max())\n",
    "plt.ylim(GPS['y'].min(), GPS['y'].max())\n",
    "plt.title('dilatation')\n",
    "fig.colorbar(im,ax=ax)\n",
    "plt.show()\n",
    "\n",
    "fig=plt.figure(figsize=(10,10))\n",
    "ax = fig.add_subplot(1, 1, 1)     \n",
    "im=ax.pcolor(x,y,shear,vmin=0,vmax=2e-7)\n",
    "ax.plot(faults['x'],faults['y'],'r')\n",
    "ax.plot(GPS['x'],GPS['y'],'k.')\n",
    "plt.axis('image')\n",
    "plt.xlabel('East (m)')\n",
    "plt.ylabel('North (m)')\n",
    "plt.xlim(GPS['x'].min(), GPS['x'].max())\n",
    "plt.ylim(GPS['y'].min(), GPS['y'].max())\n",
    "plt.title('shear');\n",
    "fig.colorbar(im,ax=ax)\n",
    "plt.show()\n"
   ]
  }
 ],
 "metadata": {
  "kernelspec": {
   "display_name": "Python 3",
   "language": "python",
   "name": "python3"
  },
  "language_info": {
   "codemirror_mode": {
    "name": "ipython",
    "version": 3
   },
   "file_extension": ".py",
   "mimetype": "text/x-python",
   "name": "python",
   "nbconvert_exporter": "python",
   "pygments_lexer": "ipython3",
   "version": "3.7.0"
  }
 },
 "nbformat": 4,
 "nbformat_minor": 5
}
